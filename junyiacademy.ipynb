{
 "cells": [
  {
   "cell_type": "code",
   "execution_count": 1,
   "metadata": {},
   "outputs": [
    {
     "data": {
      "text/plain": [
       "True"
      ]
     },
     "execution_count": 1,
     "metadata": {},
     "output_type": "execute_result"
    }
   ],
   "source": [
    "def f(my_str):\n",
    "    my_list = my_str.split()\n",
    "    my_list2 = []\n",
    "    for i in my_list:\n",
    "        my_list2.append(i[::-1])\n",
    "    return \" \".join(my_list2)\n",
    "\n",
    "\n",
    "f(\"junyiacademy\") == \"ymedacaiynuj\"\n",
    "f(\"flipped class room is important\") == \"deppilf ssalc moor si tnatropmi\""
   ]
  },
  {
   "cell_type": "code",
   "execution_count": 2,
   "metadata": {},
   "outputs": [
    {
     "name": "stdout",
     "output_type": "stream",
     "text": [
      "15\n",
      "9\n"
     ]
    }
   ],
   "source": [
    "my_input = int(input())\n",
    "set1 = set()\n",
    "set2 = set()\n",
    "set3 = set()\n",
    "for i in range(1, my_input+1, 1):\n",
    "    set1.add(i)\n",
    "    if i%3 == 0:\n",
    "        set2.add(i)\n",
    "    if i%5 == 0:\n",
    "        set3.add(i)\n",
    "        \n",
    "set1 = set1 - set2\n",
    "set1 = set1 - set3\n",
    "and_set = (set2 & set3)\n",
    "set1 = set1 | and_set\n",
    "print(len(set1))"
   ]
  },
  {
   "cell_type": "markdown",
   "metadata": {},
   "source": [
    "# 問題3\n",
    "房間裡有三個袋子，一個只裝鉛筆，一個只裝原子筆，第三個有鉛筆也有原子筆。\n",
    "袋子是不透明的，單從袋子的外表上看不出任何差異，你不知道哪個袋子裝什麼。\n",
    "除了袋子上各貼了一個標示（\"鉛筆\"、\"原子筆\"、\"混和\"），且標示都是錯的\n",
    "（e.g. 標示鉛筆的袋子可能是混和的或是只裝原子筆）。\n",
    "你只能選一個袋子，拿出裡面一支筆，看是鉛筆還是原子筆，然後你要推論出這三\n",
    "個袋子分別的情況。請列出你的作法，以及解釋為什麼這樣可以找到答案。"
   ]
  },
  {
   "cell_type": "markdown",
   "metadata": {},
   "source": [
    "# ans3\n",
    "pen --> ato mix<br>\n",
    "ato --> pen mix<br>\n",
    "mix --> pen ato<br>\n",
    "\n",
    "第一步，要選哪個袋子?\n",
    "我會選混合標示，因為拿出鉛筆他就確定是鉛筆袋...(原子筆以此類推)\n",
    "\n",
    "那這個狀況下，原子筆標示的，就確定是混合袋(因為此時鉛筆袋已經確定)\n",
    "\n",
    "這個狀況下，剩下鉛筆標示的，就確定是原子筆袋"
   ]
  },
  {
   "cell_type": "markdown",
   "metadata": {},
   "source": [
    "# 問題4\n",
    "有三個人一起到迪士尼遊玩，中午肚子餓了，去餐廳點了一份現在最夯的冰雪奇緣\n",
    "雙人組，要價 900 元，付錢後，服務生發現今天套餐大特價，只要 750 元，因此\n",
    "服務生應該退還 150 元給這三個人，但是這位服務生一時鬼迷心竅，決定暗槓 60\n",
    "元，只退了 90 元給這三個遊客。\n",
    "那麼：三人各出 300 元 - 服務生還給他們一人 30 元 = 三人各出 270 元。270\n",
    "元 × 3 人+ 服務生私吞的 60 元 = 810 + 60 = 870 !? 怎麼不是 900 元呢？還\n",
    "有 30 元去哪了呢？請用敘述的方式，儘量清楚解釋問題出在哪裡。"
   ]
  },
  {
   "cell_type": "markdown",
   "metadata": {},
   "source": [
    "# ans4\n",
    "他們每個人確實都出了 270\n",
    "但他們最後購買的是 750 的套餐\n",
    "所以他們總共花了 810 買了 750 的套餐\n",
    "當初的900 現在 750在迪士尼 3人各有30元 60元在服務生手上\n",
    "\n",
    "所以問題出在冰雪奇緣雙人組，三個人可能吃不飽"
   ]
  },
  {
   "cell_type": "code",
   "execution_count": null,
   "metadata": {},
   "outputs": [],
   "source": []
  }
 ],
 "metadata": {
  "kernelspec": {
   "display_name": "Python 3",
   "language": "python",
   "name": "python3"
  },
  "language_info": {
   "codemirror_mode": {
    "name": "ipython",
    "version": 3
   },
   "file_extension": ".py",
   "mimetype": "text/x-python",
   "name": "python",
   "nbconvert_exporter": "python",
   "pygments_lexer": "ipython3",
   "version": "3.6.5"
  }
 },
 "nbformat": 4,
 "nbformat_minor": 2
}
